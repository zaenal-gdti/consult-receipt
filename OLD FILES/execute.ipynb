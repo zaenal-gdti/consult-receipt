{
 "cells": [
  {
   "cell_type": "code",
   "execution_count": 1,
   "id": "14c343e4-4fec-4e46-a109-e7de6caf026f",
   "metadata": {},
   "outputs": [],
   "source": [
    "from script.mail_merge import run_mail_merge"
   ]
  },
  {
   "cell_type": "code",
   "execution_count": 2,
   "id": "4453901e-7e67-494d-82db-951dea097fff",
   "metadata": {},
   "outputs": [],
   "source": [
    "# import pandas as pd\n",
    "\n",
    "# df = pd.read_excel('input/pcetq_mnc_mitra.xlsx')\n",
    "\n",
    "# df = df.sample(frac=0.1)\n",
    "\n",
    "# df.to_excel('input/pcetq_mnc_mitra_small.xlsx', sheet_name='data')\n",
    "# df.shape"
   ]
  },
  {
   "cell_type": "code",
   "execution_count": 3,
   "id": "60945705-14d0-4f4f-90b7-38e08d232b58",
   "metadata": {},
   "outputs": [
    {
     "name": "stderr",
     "output_type": "stream",
     "text": [
      "57it [00:58,  1.03s/it]\n"
     ]
    }
   ],
   "source": [
    "run_mail_merge('input/pcetq_mnc_mitra_small.xlsx', 'week3')"
   ]
  },
  {
   "cell_type": "code",
   "execution_count": 2,
   "id": "e2cc9a5c-11b1-4f07-8577-da5b000a9319",
   "metadata": {},
   "outputs": [
    {
     "name": "stdout",
     "output_type": "stream",
     "text": [
      "CPU times: user 313 ms, sys: 138 ms, total: 451 ms\n",
      "Wall time: 47.8 s\n"
     ]
    }
   ],
   "source": [
    "%%time\n",
    "run_mail_merge('input/pcetq_mnc_mitra_small.xlsx', 'week3', parallel=True)"
   ]
  },
  {
   "cell_type": "code",
   "execution_count": null,
   "id": "4a6a4d05-017b-451d-acca-583caa3850af",
   "metadata": {},
   "outputs": [],
   "source": []
  }
 ],
 "metadata": {
  "kernelspec": {
   "display_name": "Python 3 (ipykernel)",
   "language": "python",
   "name": "python3"
  },
  "language_info": {
   "codemirror_mode": {
    "name": "ipython",
    "version": 3
   },
   "file_extension": ".py",
   "mimetype": "text/x-python",
   "name": "python",
   "nbconvert_exporter": "python",
   "pygments_lexer": "ipython3",
   "version": "3.11.9"
  }
 },
 "nbformat": 4,
 "nbformat_minor": 5
}

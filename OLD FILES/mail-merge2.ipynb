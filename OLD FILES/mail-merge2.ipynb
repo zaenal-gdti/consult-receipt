{
 "cells": [
  {
   "cell_type": "code",
   "execution_count": 1,
   "id": "eba63447-7fc3-4b9d-b57f-cb108d5ed953",
   "metadata": {},
   "outputs": [],
   "source": [
    "from docx import Document\n",
    "from docx.shared import Pt\n",
    "from docx.enum.text import WD_ALIGN_PARAGRAPH\n",
    "import subprocess\n",
    "from docx.shared import Pt\n",
    "import pandas as pd\n",
    "import os\n",
    "import shutil\n",
    "from tqdm import tqdm"
   ]
  },
  {
   "cell_type": "code",
   "execution_count": 2,
   "id": "502c829c-cd25-4c28-8142-804026948f29",
   "metadata": {},
   "outputs": [
    {
     "name": "stderr",
     "output_type": "stream",
     "text": [
      "/opt/conda/lib/python3.11/site-packages/openpyxl/worksheet/_read_only.py:81: UserWarning: Data Validation extension is not supported and will be removed\n",
      "  for idx, row in parser.parse():\n"
     ]
    }
   ],
   "source": [
    "consult = pd.read_excel('Input/04. Report PPU April 2024.xlsx', sheet_name='Discharge Consult')"
   ]
  },
  {
   "cell_type": "code",
   "execution_count": 3,
   "id": "2faa364b-aa8f-4ed9-bb96-8f7749c5410d",
   "metadata": {},
   "outputs": [],
   "source": [
    "#rx = pd.read_excel('Input/04. Report PPU April 2024.xlsx', sheet_name='Discharge Rx')"
   ]
  },
  {
   "cell_type": "code",
   "execution_count": 4,
   "id": "2ebcfcbc-9716-4dc3-aac1-0ac291fc8aa8",
   "metadata": {},
   "outputs": [],
   "source": [
    "consult.columns = consult.columns.str.lower().str.strip().str.replace('[!\"#$%&\\'()*+,-./:;<=>?@[\\\\]^`{|}~]','', regex = True).str.replace(' ', '_')"
   ]
  },
  {
   "cell_type": "code",
   "execution_count": 5,
   "id": "29931608-f89a-419b-bd66-fb6b22ac583c",
   "metadata": {},
   "outputs": [],
   "source": [
    "consult_mrg = pd.read_excel('Input/sample_consult_file_w_prescription_3.xlsx')\n"
   ]
  },
  {
   "cell_type": "code",
   "execution_count": 12,
   "id": "318e16ec-1860-4f41-9d79-25a1a34097d0",
   "metadata": {},
   "outputs": [
    {
     "data": {
      "text/html": [
       "<div>\n",
       "<style scoped>\n",
       "    .dataframe tbody tr th:only-of-type {\n",
       "        vertical-align: middle;\n",
       "    }\n",
       "\n",
       "    .dataframe tbody tr th {\n",
       "        vertical-align: top;\n",
       "    }\n",
       "\n",
       "    .dataframe thead th {\n",
       "        text-align: right;\n",
       "    }\n",
       "</style>\n",
       "<table border=\"1\" class=\"dataframe\">\n",
       "  <thead>\n",
       "    <tr style=\"text-align: right;\">\n",
       "      <th></th>\n",
       "      <th>Unnamed: 0</th>\n",
       "      <th>Date</th>\n",
       "      <th>Name</th>\n",
       "      <th>Card No</th>\n",
       "      <th>GDT ID</th>\n",
       "      <th>Consult ID</th>\n",
       "      <th>ICDX</th>\n",
       "      <th>GP/SP</th>\n",
       "      <th>Claim ID</th>\n",
       "      <th>Consult Fee</th>\n",
       "      <th>...</th>\n",
       "      <th>UNIT OBAT 8</th>\n",
       "      <th>UNIT OBAT 9</th>\n",
       "      <th>UNIT OBAT 10</th>\n",
       "      <th>UNIT OBAT 11</th>\n",
       "      <th>UNIT OBAT 12</th>\n",
       "      <th>Consultation ID</th>\n",
       "      <th>Doctor SIP</th>\n",
       "      <th>Doctor STR</th>\n",
       "      <th>Chief Complaints</th>\n",
       "      <th>Suggestion</th>\n",
       "    </tr>\n",
       "  </thead>\n",
       "  <tbody>\n",
       "    <tr>\n",
       "      <th>0</th>\n",
       "      <td>0</td>\n",
       "      <td>2024-04-27</td>\n",
       "      <td>Afriliana Berdi</td>\n",
       "      <td>8000150301320947</td>\n",
       "      <td>7093643</td>\n",
       "      <td>1401659</td>\n",
       "      <td>S90, P12.3</td>\n",
       "      <td>GP</td>\n",
       "      <td>133797350 &amp; 133802422</td>\n",
       "      <td>29970.0</td>\n",
       "      <td>...</td>\n",
       "      <td>Tablet</td>\n",
       "      <td>Tablet</td>\n",
       "      <td>Tablet</td>\n",
       "      <td>NaN</td>\n",
       "      <td>NaN</td>\n",
       "      <td>1401659</td>\n",
       "      <td>440/0144/DU/DPM-PTSP.PPJU/OL.22</td>\n",
       "      <td>3111100120211971</td>\n",
       "      <td>Kaki saya keserempet motor udah di pijit agak ...</td>\n",
       "      <td>Kompres air dingin dan pakai obat secara teratur</td>\n",
       "    </tr>\n",
       "    <tr>\n",
       "      <th>1</th>\n",
       "      <td>1</td>\n",
       "      <td>2024-04-27</td>\n",
       "      <td>Agung Budhi Cahyono</td>\n",
       "      <td>8000150301293037</td>\n",
       "      <td>6673283</td>\n",
       "      <td>1402097</td>\n",
       "      <td>J00</td>\n",
       "      <td>GP</td>\n",
       "      <td>133810311 &amp; 133811616</td>\n",
       "      <td>29970.0</td>\n",
       "      <td>...</td>\n",
       "      <td>Tablet</td>\n",
       "      <td>Tablet</td>\n",
       "      <td>Tablet</td>\n",
       "      <td>NaN</td>\n",
       "      <td>NaN</td>\n",
       "      <td>1402097</td>\n",
       "      <td>3/B.15A/31.71.08.1001.03.003.R.4/3/-1.779.3/e/...</td>\n",
       "      <td>3111100221157260</td>\n",
       "      <td>saya Agak Demam, Batuk, tenggorokan Serak</td>\n",
       "      <td>tingkatkan daya tahan tubuh dengan: makan yang...</td>\n",
       "    </tr>\n",
       "    <tr>\n",
       "      <th>2</th>\n",
       "      <td>2</td>\n",
       "      <td>2024-04-27</td>\n",
       "      <td>Anang Rahyudi Budiantoro</td>\n",
       "      <td>8000150301336844</td>\n",
       "      <td>2361628</td>\n",
       "      <td>1402119</td>\n",
       "      <td>R73.9</td>\n",
       "      <td>GP</td>\n",
       "      <td>133810512</td>\n",
       "      <td>29970.0</td>\n",
       "      <td>...</td>\n",
       "      <td>Tablet</td>\n",
       "      <td>Tablet</td>\n",
       "      <td>Tablet</td>\n",
       "      <td>NaN</td>\n",
       "      <td>NaN</td>\n",
       "      <td>1402119</td>\n",
       "      <td>KS.08/4904/DPMPTSP/DU/2003</td>\n",
       "      <td>3111100223202441</td>\n",
       "      <td>selamat sore dok..\\nsya tadi dikantor ikut cek...</td>\n",
       "      <td>hindari makan / minuman manis ya, terutama yan...</td>\n",
       "    </tr>\n",
       "    <tr>\n",
       "      <th>3</th>\n",
       "      <td>3</td>\n",
       "      <td>2024-04-27</td>\n",
       "      <td>Ayuni Zayna Alfathunnisa</td>\n",
       "      <td>8000150301311268</td>\n",
       "      <td>2175215</td>\n",
       "      <td>1401330</td>\n",
       "      <td>J00</td>\n",
       "      <td>GP</td>\n",
       "      <td>133784230</td>\n",
       "      <td>29970.0</td>\n",
       "      <td>...</td>\n",
       "      <td>Tablet</td>\n",
       "      <td>Tablet</td>\n",
       "      <td>Tablet</td>\n",
       "      <td>NaN</td>\n",
       "      <td>NaN</td>\n",
       "      <td>1401330</td>\n",
       "      <td>440/0636/DU/DPM-PTSP.PPJU/OL.21</td>\n",
       "      <td>3221100221180606</td>\n",
       "      <td>Batuk, radang tenggorokam, demam,</td>\n",
       "      <td>NaN</td>\n",
       "    </tr>\n",
       "    <tr>\n",
       "      <th>4</th>\n",
       "      <td>4</td>\n",
       "      <td>2024-04-27</td>\n",
       "      <td>Farzana Shafira Almahira</td>\n",
       "      <td>8000150301269417</td>\n",
       "      <td>6291767</td>\n",
       "      <td>1401484</td>\n",
       "      <td>L23</td>\n",
       "      <td>SP</td>\n",
       "      <td>133784568 &amp; 133791596</td>\n",
       "      <td>111000.0</td>\n",
       "      <td>...</td>\n",
       "      <td>Tablet</td>\n",
       "      <td>Tablet</td>\n",
       "      <td>Tablet</td>\n",
       "      <td>NaN</td>\n",
       "      <td>NaN</td>\n",
       "      <td>1401484</td>\n",
       "      <td>503/DPMPTSP/Sp/2020</td>\n",
       "      <td>7321602217116862</td>\n",
       "      <td>saya mengalami gigitan serangga</td>\n",
       "      <td>Kontrol 7 hari jika ada keluhan</td>\n",
       "    </tr>\n",
       "  </tbody>\n",
       "</table>\n",
       "<p>5 rows × 104 columns</p>\n",
       "</div>"
      ],
      "text/plain": [
       "   Unnamed: 0       Date                      Name           Card No   GDT ID  \\\n",
       "0           0 2024-04-27           Afriliana Berdi  8000150301320947  7093643   \n",
       "1           1 2024-04-27       Agung Budhi Cahyono  8000150301293037  6673283   \n",
       "2           2 2024-04-27  Anang Rahyudi Budiantoro  8000150301336844  2361628   \n",
       "3           3 2024-04-27  Ayuni Zayna Alfathunnisa  8000150301311268  2175215   \n",
       "4           4 2024-04-27  Farzana Shafira Almahira  8000150301269417  6291767   \n",
       "\n",
       "   Consult ID        ICDX GP/SP               Claim ID  Consult Fee  ...  \\\n",
       "0     1401659  S90, P12.3    GP  133797350 & 133802422      29970.0  ...   \n",
       "1     1402097         J00    GP  133810311 & 133811616      29970.0  ...   \n",
       "2     1402119       R73.9    GP              133810512      29970.0  ...   \n",
       "3     1401330         J00    GP              133784230      29970.0  ...   \n",
       "4     1401484         L23    SP  133784568 & 133791596     111000.0  ...   \n",
       "\n",
       "   UNIT OBAT 8  UNIT OBAT 9 UNIT OBAT 10  UNIT OBAT 11 UNIT OBAT 12  \\\n",
       "0       Tablet       Tablet       Tablet           NaN          NaN   \n",
       "1       Tablet       Tablet       Tablet           NaN          NaN   \n",
       "2       Tablet       Tablet       Tablet           NaN          NaN   \n",
       "3       Tablet       Tablet       Tablet           NaN          NaN   \n",
       "4       Tablet       Tablet       Tablet           NaN          NaN   \n",
       "\n",
       "  Consultation ID                                         Doctor SIP  \\\n",
       "0         1401659                    440/0144/DU/DPM-PTSP.PPJU/OL.22   \n",
       "1         1402097  3/B.15A/31.71.08.1001.03.003.R.4/3/-1.779.3/e/...   \n",
       "2         1402119                         KS.08/4904/DPMPTSP/DU/2003   \n",
       "3         1401330                    440/0636/DU/DPM-PTSP.PPJU/OL.21   \n",
       "4         1401484                                503/DPMPTSP/Sp/2020   \n",
       "\n",
       "         Doctor STR                                   Chief Complaints  \\\n",
       "0  3111100120211971  Kaki saya keserempet motor udah di pijit agak ...   \n",
       "1  3111100221157260          saya Agak Demam, Batuk, tenggorokan Serak   \n",
       "2  3111100223202441  selamat sore dok..\\nsya tadi dikantor ikut cek...   \n",
       "3  3221100221180606                  Batuk, radang tenggorokam, demam,   \n",
       "4  7321602217116862                    saya mengalami gigitan serangga   \n",
       "\n",
       "                                          Suggestion  \n",
       "0   Kompres air dingin dan pakai obat secara teratur  \n",
       "1  tingkatkan daya tahan tubuh dengan: makan yang...  \n",
       "2  hindari makan / minuman manis ya, terutama yan...  \n",
       "3                                                NaN  \n",
       "4                   Kontrol 7 hari jika ada keluhan   \n",
       "\n",
       "[5 rows x 104 columns]"
      ]
     },
     "execution_count": 12,
     "metadata": {},
     "output_type": "execute_result"
    }
   ],
   "source": [
    "#consult.columns = consult.columns.str.lower().str.strip().str.replace('[!\"#$%&\\'()*+,-./:;<=>?@[\\\\]^`{|}~]','', regex = True).str.replace(' ', '_')\n",
    "#rx.columns = rx.columns.str.lower().str.strip().str.replace('[!\"#$%&\\'()*+,-./:;<=>?@[\\\\]^`{|}~]','', regex = True).str.replace(' ', '_')\n",
    "consult_mrg.head()"
   ]
  },
  {
   "cell_type": "code",
   "execution_count": 13,
   "id": "67ab2956-5aab-48df-8b2d-1e7f78c7192f",
   "metadata": {},
   "outputs": [],
   "source": [
    "#rx[rx['Consultation ID'].isin(consult['Consultation ID']) == False].dropna(subset = 'Order Created Date')\n",
    "#consult_mrg = consult.merge(rx, how = 'left', on = 'consultation_id', suffixes=('', '_rx')).fillna('')"
   ]
  },
  {
   "cell_type": "code",
   "execution_count": 14,
   "id": "b45e583d-1ff6-4c0c-80de-f2282b60fee0",
   "metadata": {},
   "outputs": [],
   "source": [
    "consult_mrg.columns = consult_mrg.columns.str.lower().str.strip().str.replace('[!\"#$%&\\'()*+,-./:;<=>?@[\\\\]^`{|}~]','', regex = True).str.replace(' ', '_')\n",
    "consult_mrg = consult_mrg.merge(consult[['consultation_id','dob','gender']])"
   ]
  },
  {
   "cell_type": "code",
   "execution_count": 15,
   "id": "466eb383-9a09-4510-88c0-c4c72dcdbe3a",
   "metadata": {},
   "outputs": [],
   "source": [
    "data = consult_mrg.iloc[3465].to_dict()"
   ]
  },
  {
   "cell_type": "code",
   "execution_count": 19,
   "id": "73ba7715-9472-4652-91e8-dcfd9402b401",
   "metadata": {},
   "outputs": [],
   "source": [
    "#consult_mrg.shape"
   ]
  },
  {
   "cell_type": "code",
   "execution_count": 21,
   "id": "923ed490-eba3-4031-9344-ae88250d3947",
   "metadata": {},
   "outputs": [],
   "source": [
    "def row_to_pdf(data):\n",
    "    for i in data.keys():\n",
    "        if str(data.get(i)) == 'nan':\n",
    "            data[i] = ''\n",
    "            \n",
    "    f = open('template.docx', 'rb')\n",
    "    doc = Document(f)\n",
    "    \n",
    "    \n",
    "    ## General Information\n",
    "    doc.tables[0].cell(0, 1).text = data['doctor_name']\n",
    "    doc.tables[0].cell(1, 1).text = data['doctor_department']\n",
    "    doc.tables[0].cell(2, 1).text = data['doctor_sip']\n",
    "    doc.tables[0].cell(3, 1).text = data['doctor_str']\n",
    "    doc.tables[0].cell(0, 3).text = data['name']\n",
    "    doc.tables[0].cell(1, 3).text = data['gender']\n",
    "    doc.tables[0].cell(2, 3).text = data['dob']\n",
    "    doc.tables[0].cell(3, 3).text = str(data['card_no']).replace('.0', '')\n",
    "    doc.tables[0].cell(4, 3).text = data['payor']\n",
    "    doc.tables[0].cell(5, 3).text = data['corporate']\n",
    "    \n",
    "    for i in range(6):\n",
    "        if i < 4:\n",
    "            doc.tables[0].cell(i, 1).paragraphs[0].runs[0].font.size = Pt(8)\n",
    "        doc.tables[0].cell(i, 3).paragraphs[0].runs[0].font.size = Pt(8)\n",
    "\n",
    "    ## complaint & diagnosis\n",
    "    doc.paragraphs[2].text = data['chief_complaints']\n",
    "    doc.paragraphs[2].runs[0].font.size= Pt(8)\n",
    "    doc.paragraphs[4].text = str(data['diagnosis']) if str(data['diagnosis']) != '' else '' + (', ' + str(data['suggestion'])) if str(data['suggestion']) != '' else '' \n",
    "    doc.paragraphs[4].runs[0].font.size= Pt(8)\n",
    "    \n",
    "    doc.paragraphs[6].text = data['icdx']\n",
    "    doc.paragraphs[6].runs[0].font.size= Pt(8)\n",
    "\n",
    "    ## Consultation Detail\n",
    "    doc.tables[1].cell(1, 1).text = str(data['consult_id']).replace('.0', '')\n",
    "    doc.tables[1].cell(1, 2).text = str(data['claim_id']).replace('.0', '')\n",
    "    doc.tables[1].cell(1, 3).text = data['date'].strftime('%d/%m/%Y') + ' ' + data['time']\n",
    "    doc.tables[1].cell(1, 4).text = 'IDR '+ str(data['consult_fee']).replace('.0', '')\n",
    "    doc.tables[1].cell(1, 7).text = 'IDR '+ str(data['consult_fee']).replace('.0', '')\n",
    "    doc.tables[1].cell(2, 1).text = str(data['order_id']).replace('.0', '')\n",
    "    \n",
    "    \n",
    "    doc.tables[1].cell(1, 1).paragraphs[0].runs[0].font.size= Pt(8)\n",
    "    doc.tables[1].cell(1, 2).paragraphs[0].runs[0].font.size= Pt(8)\n",
    "    doc.tables[1].cell(1, 3).paragraphs[0].runs[0].font.size= Pt(8)\n",
    "    doc.tables[1].cell(1, 4).paragraphs[0].runs[0].font.size= Pt(8)\n",
    "    doc.tables[1].cell(1, 7).paragraphs[0].runs[0].font.size= Pt(8)\n",
    "    doc.tables[1].cell(2, 1).paragraphs[0].runs[0].font.size= Pt(8)\n",
    "\n",
    "    for i in range(1,13):\n",
    "        j = i + 2\n",
    "        if str(data[f'obat_{i}']) != '':\n",
    "            doc.tables[1].cell(j, 0).text = data[f'obat_{i}']\n",
    "            doc.tables[1].cell(j, 0).paragraphs[0].alignment = 2\n",
    "            doc.tables[1].cell(j, 4).text = 'IDR '+ str(data[f'total_{i}']).replace('.0', '')\n",
    "            doc.tables[1].cell(j, 5).text = str(data[f'jumlah_{i}']).replace('.0', '')\n",
    "            doc.tables[1].cell(j, 6).text = data[f'unit_obat_{i}']\n",
    "            doc.tables[1].cell(j, 7).text = 'IDR '+ str(data[f'total_{i}']).replace('.0', '')\n",
    "\n",
    "            doc.tables[1].cell(j, 6).paragraphs[0].runs[0].italic = True\n",
    "            \n",
    "            doc.tables[1].cell(j, 0).paragraphs[0].runs[0].font.size= Pt(8)\n",
    "            doc.tables[1].cell(j, 4).paragraphs[0].runs[0].font.size= Pt(8)\n",
    "            doc.tables[1].cell(j, 5).paragraphs[0].runs[0].font.size= Pt(8)\n",
    "            doc.tables[1].cell(j, 6).paragraphs[0].runs[0].font.size= Pt(8)\n",
    "            doc.tables[1].cell(j, 7).paragraphs[0].runs[0].font.size= Pt(8)\n",
    "\n",
    "    doc.tables[1].cell(16, 4).text = 'IDR 0' if data['excess_delivery_fee'] =='' else 'IDR '+ str(data['excess_delivery_fee']).replace('.0', '')\n",
    "    doc.tables[1].cell(16, 7).text = 'IDR 0' if data['excess_delivery_fee'] =='' else 'IDR '+ str(data['excess_delivery_fee']).replace('.0', '')\n",
    "    doc.tables[1].cell(18, 7).text = 'IDR '+ str(data['total']).replace('.0', '')\n",
    "    excess =  0 if  data['rx_excess'] == '' else float(data['rx_excess']) + 0 if  data['excess_consult'] == '' else data['excess_consult']\n",
    "    doc.tables[1].cell(19, 7).text = 'IDR '+ str(data['total'] - excess).replace('.0', '')\n",
    "    doc.tables[1].cell(20, 7).text = 'IDR '+ str(excess).replace('.0', '')\n",
    "    \n",
    "    doc.tables[1].cell(16, 4).paragraphs[0].runs[0].font.size= Pt(8)\n",
    "    doc.tables[1].cell(16, 7).paragraphs[0].runs[0].font.size= Pt(8)\n",
    "    doc.tables[1].cell(18, 7).paragraphs[0].runs[0].font.size= Pt(8)\n",
    "    doc.tables[1].cell(19, 7).paragraphs[0].runs[0].font.size= Pt(8)\n",
    "    doc.tables[1].cell(20, 7).paragraphs[0].runs[0].font.size= Pt(8)\n",
    "    \n",
    "    doc.tables[1].cell(18, 7).paragraphs[0].runs[0].bold = True\n",
    "    doc.tables[1].cell(19, 7).paragraphs[0].runs[0].bold = True\n",
    "    doc.tables[1].cell(20, 7).paragraphs[0].runs[0].bold = True\n",
    "\n",
    "    name = data['name'].replace('/', ' ')\n",
    "    consult_on = data['date'].strftime('%Y-%m-%d')\n",
    "    consult_id = str(data['consult_id']).replace('.0', '')\n",
    "    agg = data['aggregator_name']\n",
    "    payor = data['payor']\n",
    "    \n",
    "    if not os.path.exists(f'.tmp/{agg}/{payor}'):\n",
    "        os.makedirs(f'.tmp/{agg}/{payor}')\n",
    "\n",
    "    tmp_name = f'.tmp/{agg}/{payor}/{consult_on}_Consultation_Receipt_{name}_{consult_id}.docx'\n",
    "    doc.save(tmp_name)\n",
    "    f.close()\n",
    "    \n",
    "    subprocess.run(['libreoffice', '--convert-to', 'pdf' ,\n",
    "                    tmp_name, '--outdir', f'.tmp/{agg}/{payor}']\n",
    "                   ,stdout=subprocess.DEVNULL,\n",
    "                    stderr=subprocess.DEVNULL\n",
    "                )\n",
    "\n",
    "    #old_doc = [x for x in os.listdir('output') if 'docx' in x]\n",
    "    #for i in old_doc:\n",
    "    os.remove(tmp_name)"
   ]
  },
  {
   "cell_type": "code",
   "execution_count": 34,
   "id": "7d6a3507-2d3d-4bd8-9426-8f75e288a9ee",
   "metadata": {},
   "outputs": [],
   "source": [
    "shutil.rmtree('.tmp')\n",
    "os.mkdir('.tmp')\n",
    "\n",
    "shutil.rmtree('output')\n",
    "os.mkdir('output')"
   ]
  },
  {
   "cell_type": "code",
   "execution_count": 32,
   "id": "88c3384f-1ba2-4ae2-bf7f-75aa032a7126",
   "metadata": {},
   "outputs": [],
   "source": [
    "consult_mrg = consult_mrg.sort_values(['aggregator_name', 'payor'], ascending = False)\n",
    "payor_stat = consult_mrg['payor'].value_counts().reset_index()\n",
    "pyr = payor_stat[payor_stat['count'] < 300].iloc[:3].payor"
   ]
  },
  {
   "cell_type": "code",
   "execution_count": 25,
   "id": "68e0ae2d-ff1e-4606-b30b-d4b035222117",
   "metadata": {},
   "outputs": [],
   "source": []
  },
  {
   "cell_type": "code",
   "execution_count": 33,
   "id": "66790e29-e3d6-46df-b2de-bb78cf6c5126",
   "metadata": {},
   "outputs": [],
   "source": []
  },
  {
   "cell_type": "code",
   "execution_count": null,
   "id": "0e237bcd-89a9-4a63-9c2e-6e1f442854e4",
   "metadata": {},
   "outputs": [
    {
     "name": "stderr",
     "output_type": "stream",
     "text": [
      "12600it [54:43:23,  1.50s/it]  "
     ]
    }
   ],
   "source": [
    "%%time\n",
    "for index, row in tqdm(consult_mrg.iterrows()):\n",
    "    row_to_pdf(row)"
   ]
  },
  {
   "cell_type": "code",
   "execution_count": null,
   "id": "e370458a-5047-405a-82da-882f6451839f",
   "metadata": {},
   "outputs": [],
   "source": [
    "consult_mrg"
   ]
  },
  {
   "cell_type": "code",
   "execution_count": 25,
   "id": "1a4d0f55-8ee1-4ef1-81de-0cc7bd253823",
   "metadata": {},
   "outputs": [],
   "source": []
  },
  {
   "cell_type": "code",
   "execution_count": 75,
   "id": "7fcb1db1-5d6e-4e56-bb20-41f0abe6be78",
   "metadata": {},
   "outputs": [],
   "source": [
    "for i in data.keys():\n",
    "    if str(data.get(i)) == 'nan':\n",
    "        data[i] = ''"
   ]
  },
  {
   "cell_type": "code",
   "execution_count": 76,
   "id": "55c160f9-82ff-4f4e-94c5-c9a327d0df76",
   "metadata": {},
   "outputs": [
    {
     "data": {
      "text/plain": [
       "''"
      ]
     },
     "execution_count": 76,
     "metadata": {},
     "output_type": "execute_result"
    }
   ],
   "source": [
    "data['ag']"
   ]
  },
  {
   "cell_type": "code",
   "execution_count": 77,
   "id": "3aef7e5e-836c-4d7f-b771-a23053d92e6b",
   "metadata": {},
   "outputs": [],
   "source": [
    "f = open('template.docx', 'rb')\n",
    "doc = Document(f)"
   ]
  },
  {
   "cell_type": "code",
   "execution_count": 79,
   "id": "700b113e-2fca-4841-89df-989b1d16f697",
   "metadata": {},
   "outputs": [],
   "source": [
    "doc.tables[0].cell(0, 1).text = data['doctor_name']\n",
    "doc.tables[0].cell(1, 1).text = data['doctor_department']\n",
    "doc.tables[0].cell(2, 1).text = data['doctor_sip']\n",
    "doc.tables[0].cell(3, 1).text = data['doctor_str']\n",
    "doc.tables[0].cell(0, 3).text = data['name']\n",
    "doc.tables[0].cell(1, 3).text = data['gender']\n",
    "doc.tables[0].cell(2, 3).text = data['dob']\n",
    "doc.tables[0].cell(3, 3).text = str(data['card_no']).replace('.0', '')\n",
    "doc.tables[0].cell(4, 3).text = data['payor']\n",
    "doc.tables[0].cell(5, 3).text = data['corporate']"
   ]
  },
  {
   "cell_type": "code",
   "execution_count": 80,
   "id": "46cf2c29-641f-47de-ae02-ff07695361d5",
   "metadata": {},
   "outputs": [],
   "source": [
    "for i in range(6):\n",
    "    if i < 4:\n",
    "        doc.tables[0].cell(i, 1).paragraphs[0].runs[0].font.size = Pt(8)\n",
    "    doc.tables[0].cell(i, 3).paragraphs[0].runs[0].font.size = Pt(8)"
   ]
  },
  {
   "cell_type": "code",
   "execution_count": 81,
   "id": "9c4f85af-281b-458a-9ebe-88f1b276ec87",
   "metadata": {},
   "outputs": [],
   "source": [
    "doc.paragraphs[2].text = data['chief_complaints']\n",
    "doc.paragraphs[2].runs[0].font.size= Pt(8)"
   ]
  },
  {
   "cell_type": "code",
   "execution_count": 91,
   "id": "01d37c2b-4730-4bad-8889-ccdda415f727",
   "metadata": {},
   "outputs": [],
   "source": [
    "doc.paragraphs[4].text = str(data['diagnosis']) if str(data['diagnosis']) != '' else '' + (', ' + str(data['suggestion'])) if str(data['suggestion']) != '' else '' \n",
    "doc.paragraphs[4].runs[0].font.size= Pt(8)"
   ]
  },
  {
   "cell_type": "code",
   "execution_count": 92,
   "id": "9b5cfb80-61b8-4a04-aee3-f2baab61194a",
   "metadata": {},
   "outputs": [],
   "source": [
    "doc.paragraphs[6].text = data['icdx']\n",
    "doc.paragraphs[6].runs[0].font.size= Pt(8)\n",
    "\n",
    "doc.tables[1].cell(1, 1).text = str(data['consult_id']).replace('.0', '')\n",
    "doc.tables[1].cell(1, 2).text = str(data['claim_id']).replace('.0', '')\n",
    "doc.tables[1].cell(1, 3).text = data['date'].strftime('%d/%m/%Y') + ' ' + data['time']\n",
    "doc.tables[1].cell(1, 4).text = 'IDR '+ str(data['consult_fee']).replace('.0', '')\n",
    "doc.tables[1].cell(1, 7).text = 'IDR '+ str(data['consult_fee']).replace('.0', '')\n",
    "doc.tables[1].cell(2, 1).text = str(data['order_id']).replace('.0', '')\n",
    "\n",
    "\n",
    "doc.tables[1].cell(1, 1).paragraphs[0].runs[0].font.size= Pt(8)\n",
    "doc.tables[1].cell(1, 2).paragraphs[0].runs[0].font.size= Pt(8)\n",
    "doc.tables[1].cell(1, 3).paragraphs[0].runs[0].font.size= Pt(8)\n",
    "doc.tables[1].cell(1, 4).paragraphs[0].runs[0].font.size= Pt(8)\n",
    "doc.tables[1].cell(1, 7).paragraphs[0].runs[0].font.size= Pt(8)\n",
    "doc.tables[1].cell(2, 1).paragraphs[0].runs[0].font.size= Pt(8)\n",
    "\n",
    "\n"
   ]
  },
  {
   "cell_type": "code",
   "execution_count": 93,
   "id": "e0cb4446-701b-4cb5-baa6-98ae4f0f2699",
   "metadata": {},
   "outputs": [],
   "source": [
    "#doc.tables[1].cell(1, 1).paragraphs[0].runs"
   ]
  },
  {
   "cell_type": "code",
   "execution_count": 94,
   "id": "cdac56ee-b25a-4414-9372-76a111dba089",
   "metadata": {},
   "outputs": [],
   "source": [
    "for i in range(1,13):\n",
    "    j = i + 2\n",
    "    if str(data[f'obat_{i}']) != '':\n",
    "        doc.tables[1].cell(j, 0).text = data[f'obat_{i}']\n",
    "        doc.tables[1].cell(j, 0).paragraphs[0].alignment = 2\n",
    "        doc.tables[1].cell(j, 5).text = str(data[f'jumlah_{i}']).replace('.0', '')\n",
    "        doc.tables[1].cell(j, 6).text = data[f'unit_obat_{i}']\n",
    "        doc.tables[1].cell(j, 7).text = 'IDR '+ str(data[f'total_{i}']).replace('.0', '')\n",
    "        \n",
    "        doc.tables[1].cell(j, 0).paragraphs[0].runs[0].font.size= Pt(8)\n",
    "        doc.tables[1].cell(j, 5).paragraphs[0].runs[0].font.size= Pt(8)\n",
    "        doc.tables[1].cell(j, 6).paragraphs[0].runs[0].font.size= Pt(8)\n",
    "        doc.tables[1].cell(j, 7).paragraphs[0].runs[0].font.size= Pt(8)\n"
   ]
  },
  {
   "cell_type": "code",
   "execution_count": 99,
   "id": "dddb74a8-edef-4f50-9cd3-417a0ac4f640",
   "metadata": {},
   "outputs": [],
   "source": [
    "doc.tables[1].cell(16, 7).text = 'IDR 0' if data['excess_delivery_fee'] == '' else 'IDR '+ str(data['excess_delivery_fee']).replace('.0', '')\n",
    "doc.tables[1].cell(18, 7).text = 'IDR '+ str(data['total']).replace('.0', '')\n",
    "excess = float(data['rx_excess']) - 0 if  data['excess_consult'] == '' else data['excess_consult']\n",
    "doc.tables[1].cell(19, 7).text = 'IDR '+ str(data['total'] - excess).replace('.0', '')\n",
    "doc.tables[1].cell(20, 7).text = 'IDR '+ str(excess).replace('.0', '')\n",
    "\n",
    "\n",
    "doc.tables[1].cell(16, 7).paragraphs[0].runs[0].font.size= Pt(8)\n",
    "doc.tables[1].cell(18, 7).paragraphs[0].runs[0].font.size= Pt(8)\n",
    "doc.tables[1].cell(19, 7).paragraphs[0].runs[0].font.size= Pt(8)\n",
    "doc.tables[1].cell(20, 7).paragraphs[0].runs[0].font.size= Pt(8)\n",
    "\n",
    "doc.tables[1].cell(18, 7).paragraphs[0].runs[0].bold = True\n",
    "doc.tables[1].cell(19, 7).paragraphs[0].runs[0].bold = True\n",
    "doc.tables[1].cell(20, 7).paragraphs[0].runs[0].bold = True"
   ]
  },
  {
   "cell_type": "code",
   "execution_count": 100,
   "id": "0fe47ccf-d7c2-4fca-88a2-316b04e3ec0b",
   "metadata": {},
   "outputs": [],
   "source": [
    "doc.save(f'test.docx')\n",
    "f.close()"
   ]
  },
  {
   "cell_type": "markdown",
   "id": "22bf5ce4-67da-419a-ac04-d042ddc421b8",
   "metadata": {},
   "source": [
    "Question:\n",
    "* apakah ada footer?\n",
    "* rx sm consult claim_id bisa beda?\n",
    "* Unit utk konsultasi sm delivery mau pake sesi aja?\n",
    "* delivery fee itu excess_delivery_fee bukan?\n",
    "* Nama Insurance pake apa?"
   ]
  },
  {
   "cell_type": "code",
   "execution_count": 101,
   "id": "1b4c4fbf-52e2-411f-8ef0-0b29d2d3a10b",
   "metadata": {},
   "outputs": [
    {
     "data": {
      "text/plain": [
       "'AMAG'"
      ]
     },
     "execution_count": 101,
     "metadata": {},
     "output_type": "execute_result"
    }
   ],
   "source": [
    "data['payor']"
   ]
  },
  {
   "cell_type": "code",
   "execution_count": null,
   "id": "e0554efd-9c89-4923-82ba-ca7b1cbbddff",
   "metadata": {},
   "outputs": [],
   "source": []
  }
 ],
 "metadata": {
  "kernelspec": {
   "display_name": "Python 3 (ipykernel)",
   "language": "python",
   "name": "python3"
  },
  "language_info": {
   "codemirror_mode": {
    "name": "ipython",
    "version": 3
   },
   "file_extension": ".py",
   "mimetype": "text/x-python",
   "name": "python",
   "nbconvert_exporter": "python",
   "pygments_lexer": "ipython3",
   "version": "3.11.9"
  }
 },
 "nbformat": 4,
 "nbformat_minor": 5
}

{
 "cells": [
  {
   "cell_type": "code",
   "execution_count": 1,
   "id": "79e19593-44aa-42f0-a87f-e42c1339b35b",
   "metadata": {},
   "outputs": [],
   "source": [
    "import glob\n",
    "import pandas as pd"
   ]
  },
  {
   "cell_type": "code",
   "execution_count": 2,
   "id": "cbe74b64-743d-4751-b416-6096ffef9d6b",
   "metadata": {},
   "outputs": [],
   "source": [
    "from zipfile import ZipFile \n",
    "import numpy as np"
   ]
  },
  {
   "cell_type": "code",
   "execution_count": 6,
   "id": "be7dc38c-f1dd-49dd-b00d-d91f8a9e12e5",
   "metadata": {},
   "outputs": [
    {
     "data": {
      "text/plain": [
       "array(['Admedika'], dtype='<U8')"
      ]
     },
     "execution_count": 6,
     "metadata": {},
     "output_type": "execute_result"
    }
   ],
   "source": [
    "fls = glob.glob('.tmp/*/*/*')\n",
    "unique_agg = np.unique([i.split('/')[1] for i in fls])\n",
    "unique_pay = np.unique([i.split('/')[2] for i in fls])\n",
    "unique_agg"
   ]
  },
  {
   "cell_type": "code",
   "execution_count": 8,
   "id": "b06af1f6-8081-4cff-baa4-81d314193f30",
   "metadata": {},
   "outputs": [],
   "source": [
    "#fls"
   ]
  },
  {
   "cell_type": "code",
   "execution_count": 9,
   "id": "91184b6c-06d0-45f6-b5c7-313941c2e65c",
   "metadata": {},
   "outputs": [],
   "source": [
    "def chunks(lst, n):\n",
    "    \"\"\"Yield successive n-sized chunks from lst.\"\"\"\n",
    "    for i in range(0, len(lst), n):\n",
    "        yield lst[i:i + n] "
   ]
  },
  {
   "cell_type": "code",
   "execution_count": 15,
   "id": "52ff3489-520b-4a80-b924-a715a659504e",
   "metadata": {},
   "outputs": [],
   "source": [
    "def chunk_and_zip(outdir):\n",
    "    fls = glob.glob(f'{outdir}/*/*/*')\n",
    "    unique_agg = np.unique([i.split('/')[1] for i in fls])\n",
    "    unique_pay = np.unique([i.split('/')[2] for i in fls])\n",
    "    for i in unique_agg:\n",
    "        for j in unique_pay:\n",
    "            ij = [x for x in fls if x.split('/')[1] == i and x.split('/')[2] == j]\n",
    "            k = 1\n",
    "            for files in chunks(ij, 100):\n",
    "                with ZipFile(f'output/{i}_{j}_{k}.zip','w') as zip: \n",
    "                    for file_each in files:\n",
    "                        zip.write(file_each, file_each.split('/')[-1]) \n",
    "                k = k + 1"
   ]
  },
  {
   "cell_type": "code",
   "execution_count": 11,
   "id": "e9c63fd1-1103-4d4f-8c5b-2f33b02101d4",
   "metadata": {},
   "outputs": [],
   "source": [
    "class ChunkZip():\n",
    "    def __init__(self, outdir):\n",
    "        self.outdir = outdir\n",
    "        \n",
    "    def chunks(self, lst, n):\n",
    "        for i in range(0, len(lst), n):\n",
    "            yield lst[i:i + n] \n",
    "            \n",
    "    "
   ]
  },
  {
   "cell_type": "markdown",
   "id": "2bcba3d2-ef00-4052-bcf3-9ea411cc3b76",
   "metadata": {},
   "source": [
    "## Playground"
   ]
  },
  {
   "cell_type": "code",
   "execution_count": 18,
   "id": "4c2b3b40-e860-4d4e-9c8f-8ee85541b1ba",
   "metadata": {},
   "outputs": [],
   "source": [
    "import shutil\n",
    "import os\n",
    "shutil.rmtree('output')\n",
    "os.mkdir('output')\n",
    "chunk_and_zip('.tmp')"
   ]
  },
  {
   "cell_type": "code",
   "execution_count": null,
   "id": "9e8afa1e-1098-495f-976d-d7cf57e94fbc",
   "metadata": {},
   "outputs": [],
   "source": []
  },
  {
   "cell_type": "code",
   "execution_count": 24,
   "id": "bbcec7a0-439b-415c-bc05-004adb22125c",
   "metadata": {},
   "outputs": [],
   "source": [
    "import shutil"
   ]
  },
  {
   "cell_type": "code",
   "execution_count": 19,
   "id": "a5f3d869-f3fd-4e24-b7f4-f54e4cd1d422",
   "metadata": {},
   "outputs": [
    {
     "data": {
      "text/plain": [
       "zipfile.ZipFile"
      ]
     },
     "execution_count": 19,
     "metadata": {},
     "output_type": "execute_result"
    }
   ],
   "source": [
    "for i in z\n",
    "\n",
    "with ZipFile('my_python_files.zip','w') as zip: \n",
    "    # writing each file one by one \n",
    "    for file in file_paths: \n",
    "        zip.write(file) "
   ]
  },
  {
   "cell_type": "code",
   "execution_count": 27,
   "id": "0332a363-942a-425f-88fb-2fda59dcdce0",
   "metadata": {},
   "outputs": [
    {
     "data": {
      "text/plain": [
       "'output2/Admedika_ACA - BANK PERMATA_1.zip'"
      ]
     },
     "execution_count": 27,
     "metadata": {},
     "output_type": "execute_result"
    }
   ],
   "source": [
    "f'output2/{i}_{j}_{k}.zip'"
   ]
  },
  {
   "cell_type": "code",
   "execution_count": 28,
   "id": "0cf8c68f-4e37-4f0b-bd5e-b75bdc1a4a6e",
   "metadata": {},
   "outputs": [
    {
     "data": {
      "text/plain": [
       "['output/Admedika/PT AXA INSURANCE INDONESIA (AXA INSURANCE)/03-Apr-2024_Consultation_Receipt_Saskia Adisti.docx',\n",
       " 'output/Admedika/PT AXA INSURANCE INDONESIA (AXA INSURANCE)/19-Apr-2024_Consultation_Receipt_mia.docx',\n",
       " 'output/Admedika/PT AXA INSURANCE INDONESIA (AXA INSURANCE)/10-Apr-2024_Consultation_Receipt_nadya.docx',\n",
       " 'output/Admedika/PT AXA INSURANCE INDONESIA (AXA INSURANCE)/01-Apr-2024_Consultation_Receipt_Kamila.docx',\n",
       " 'output/Admedika/PT AXA INSURANCE INDONESIA (AXA INSURANCE)/22-Apr-2024_Consultation_Receipt_EDY SUDARMOJO.docx',\n",
       " 'output/Admedika/PT AXA INSURANCE INDONESIA (AXA INSURANCE)/01-Apr-2024_Consultation_Receipt_nelly.docx',\n",
       " 'output/Admedika/PT AXA INSURANCE INDONESIA (AXA INSURANCE)/03-Apr-2024_Consultation_Receipt_Surya Hadi Kusuma.docx',\n",
       " 'output/Admedika/PT AXA INSURANCE INDONESIA (AXA INSURANCE)/06-Apr-2024_Consultation_Receipt_Deisty Audri Putri.docx',\n",
       " 'output/Admedika/PT AXA INSURANCE INDONESIA (AXA INSURANCE)/15-Apr-2024_Consultation_Receipt_Mutiara.docx',\n",
       " 'output/Admedika/PT AXA INSURANCE INDONESIA (AXA INSURANCE)/19-Apr-2024_Consultation_Receipt_Ira Andriani.docx',\n",
       " 'output/Admedika/PT AXA INSURANCE INDONESIA (AXA INSURANCE)/15-Apr-2024_Consultation_Receipt_Eno.docx',\n",
       " 'output/Admedika/PT AXA INSURANCE INDONESIA (AXA INSURANCE)/19-Apr-2024_Consultation_Receipt_tresya kurniawan.docx',\n",
       " 'output/Admedika/PT AXA INSURANCE INDONESIA (AXA INSURANCE)/17-Apr-2024_Consultation_Receipt_oka dananjaya.docx']"
      ]
     },
     "execution_count": 28,
     "metadata": {},
     "output_type": "execute_result"
    }
   ],
   "source": [
    "file"
   ]
  },
  {
   "cell_type": "code",
   "execution_count": null,
   "id": "10e6efa2-7684-4a71-ae2e-353d0996437d",
   "metadata": {},
   "outputs": [],
   "source": []
  }
 ],
 "metadata": {
  "kernelspec": {
   "display_name": "Python 3 (ipykernel)",
   "language": "python",
   "name": "python3"
  },
  "language_info": {
   "codemirror_mode": {
    "name": "ipython",
    "version": 3
   },
   "file_extension": ".py",
   "mimetype": "text/x-python",
   "name": "python",
   "nbconvert_exporter": "python",
   "pygments_lexer": "ipython3",
   "version": "3.11.9"
  }
 },
 "nbformat": 4,
 "nbformat_minor": 5
}

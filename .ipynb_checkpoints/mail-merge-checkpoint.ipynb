{
 "cells": [
  {
   "cell_type": "code",
   "execution_count": 140,
   "id": "36c6002b-7907-4ce9-b406-71e7672dcd70",
   "metadata": {},
   "outputs": [],
   "source": [
    "from docx import Document\n",
    "from docx.shared import Pt\n",
    "from docx.enum.text import WD_ALIGN_PARAGRAPH\n",
    "import subprocess\n",
    "from docx.shared import Pt\n",
    "import pandas as pd\n",
    "import os"
   ]
  },
  {
   "cell_type": "code",
   "execution_count": null,
   "id": "27829460-e88c-4fba-8948-b490d2082eea",
   "metadata": {},
   "outputs": [],
   "source": []
  },
  {
   "cell_type": "code",
   "execution_count": 141,
   "id": "e7181638-87c2-4c0b-9627-2180e19c0678",
   "metadata": {},
   "outputs": [],
   "source": [
    "import contextlib"
   ]
  },
  {
   "cell_type": "code",
   "execution_count": 148,
   "id": "0eee8df2-35cb-4baa-85a7-9a1cbe9a46f8",
   "metadata": {},
   "outputs": [],
   "source": [
    "\n",
    "def mail_merge():\n",
    "    f = open('template.docx', 'rb')\n",
    "    doc = Document(f)\n",
    "    name = 'Ahmad Zaenal'\n",
    "    consult_on = pd.to_datetime('2024-01-01').strftime('%d-%b-%Y')\n",
    "    user_id = '0012'\n",
    "    doctor = 'Gustomo'\n",
    "    cons_time = '17:31:55'\n",
    "    comp = 'Good Doctor Technology'\n",
    "    cons_id = '11155034'\n",
    "    claim_id = '131011056 & 131011450'\n",
    "    icd = 'A01.2, J06.9 demam paratifoid b,infeksi saluran pernapasan atas, tidak-terspesifikasi'\n",
    "    \n",
    "    \n",
    "    replace_word = {'Patient Name : ': f'Patient Name: {name}', \n",
    "                    'Patient User ID : ': f'Patient User ID : {user_id}',\n",
    "                    'Doctor Name\\t\\t: ' : f'Doctor Name\\t\\t: {doctor}',\n",
    "                    'Consult Time\\t\\t: ' : f'Consult Time\\t\\t: {cons_time}',\n",
    "                    'Company Name\\t: ' : f'Company Name\\t: {comp}',\n",
    "                    'Consult ID\\t\\t: ' : f'Consult ID\\t\\t: {cons_id}',\n",
    "                    'Claim ID\\t\\t: ': f'Claim ID\\t\\t: {claim_id}',\n",
    "                    'ICDX\\t\\t\\t: ' : f'ICDX\\t\\t\\t: {icd}'\n",
    "    }\n",
    "    \n",
    "    tbl1 = {'consult_price' : 111000,\n",
    "            'drug_price' : 429300\n",
    "            }\n",
    "    tbl1['total_fare'] = tbl1['consult_price'] + tbl1['drug_price']\n",
    "    \n",
    "    obat = 'Paracetamol 60 Ml|77500|1|77500;CTM 60 Ml|77500|1|77500;Alkohol 60 Ml|77500|1|77500;Lactulax|77500|1|77500'\n",
    "    \n",
    "\n",
    "    for word in replace_word:\n",
    "        for p in doc.paragraphs:\n",
    "            if p.text.find(word) >= 0:\n",
    "                p.text = p.text.replace(word, replace_word[word])\n",
    "    \n",
    "    par2 = doc.paragraphs[2]\n",
    "    \n",
    "    par2.text = f'Consulted on : {consult_on}'\n",
    "    \n",
    "    par2.runs[0].bold = True\n",
    "\n",
    "\n",
    "    tbl_val1 = tbl1['consult_price']\n",
    "    tbl_val2 = tbl1['drug_price']\n",
    "    tbl_val3 = tbl1['total_fare']\n",
    "    \n",
    "    \n",
    "    \n",
    "    doc.tables[0].cell(0, 1).text = f'Rp {tbl_val1}'\n",
    "    doc.tables[0].cell(0, 1).paragraphs[0].runs[0].bold = True\n",
    "    doc.tables[0].cell(0, 1).paragraphs[0].alignment = 2\n",
    "    \n",
    "    doc.tables[0].cell(1, 1).text = f'Rp {tbl_val2}'\n",
    "    doc.tables[0].cell(1, 1).paragraphs[0].runs[0].bold = True\n",
    "    doc.tables[0].cell(1, 1).paragraphs[0].alignment = 2\n",
    "    \n",
    "    doc.tables[0].cell(2, 1).text = f'Rp {tbl_val3}'\n",
    "    doc.tables[0].cell(2, 1).paragraphs[0].runs[0].bold = True\n",
    "    doc.tables[0].cell(2, 1).paragraphs[0].alignment = 2\n",
    "    doc.tables[0].cell(2, 1).paragraphs[0].runs[0].font.size = Pt(18)\n",
    "    \n",
    "    for i in range(3):\n",
    "        doc.tables[0].cell(i, 1).paragraphs[0].paragraph_format.space_after = Pt(0)\n",
    "\n",
    "    obat_idn = obat.split(';')\n",
    "    for i in range(len(obat_idn)):\n",
    "        obat_cl = obat_idn[i].split('|')\n",
    "        j = i + 1\n",
    "        doc.tables[1].cell(j, 0).text = obat_cl[0]\n",
    "        doc.tables[1].cell(j, 1).text = obat_cl[1]\n",
    "        doc.tables[1].cell(j, 2).text = obat_cl[2]\n",
    "        doc.tables[1].cell(j, 3).text = obat_cl[3]\n",
    "\n",
    "        doc.tables[1].cell(j, 0).paragraphs[0].runs[0].font.size = Pt(8)\n",
    "        doc.tables[1].cell(j, 1).paragraphs[0].runs[0].font.size = Pt(8)\n",
    "        doc.tables[1].cell(j, 2).paragraphs[0].runs[0].font.size = Pt(8)\n",
    "        doc.tables[1].cell(j, 3).paragraphs[0].runs[0].font.size = Pt(8)\n",
    "    \n",
    "        for k in range(4):\n",
    "            doc.tables[1].cell(j, k).paragraphs[0].paragraph_format.space_after = Pt(0)\n",
    "    \n",
    "    doc.save(f'output/example_document2.docx')\n",
    "    f.close()\n",
    "\n",
    "    subprocess.run(['libreoffice', '--convert-to', 'pdf' ,\n",
    "                    'output/example_document2.docx', '--outdir', 'output/'],\n",
    "                   stdout=subprocess.DEVNULL,\n",
    "                    stderr=subprocess.DEVNULL\n",
    "                )\n",
    "\n",
    "    old_doc = [x for x in os.listdir('output') if 'docx' in x]\n",
    "    for i in old_doc:\n",
    "        os.remove(f'output/{i}')"
   ]
  },
  {
   "cell_type": "code",
   "execution_count": 149,
   "id": "e9fed680-b487-4fdf-b663-5bf59592d1ef",
   "metadata": {},
   "outputs": [
    {
     "data": {
      "text/plain": [
       "\u001b[0;31mSignature:\u001b[0m\n",
       "\u001b[0msubprocess\u001b[0m\u001b[0;34m.\u001b[0m\u001b[0mrun\u001b[0m\u001b[0;34m(\u001b[0m\u001b[0;34m\u001b[0m\n",
       "\u001b[0;34m\u001b[0m    \u001b[0;34m*\u001b[0m\u001b[0mpopenargs\u001b[0m\u001b[0;34m,\u001b[0m\u001b[0;34m\u001b[0m\n",
       "\u001b[0;34m\u001b[0m    \u001b[0minput\u001b[0m\u001b[0;34m=\u001b[0m\u001b[0;32mNone\u001b[0m\u001b[0;34m,\u001b[0m\u001b[0;34m\u001b[0m\n",
       "\u001b[0;34m\u001b[0m    \u001b[0mcapture_output\u001b[0m\u001b[0;34m=\u001b[0m\u001b[0;32mFalse\u001b[0m\u001b[0;34m,\u001b[0m\u001b[0;34m\u001b[0m\n",
       "\u001b[0;34m\u001b[0m    \u001b[0mtimeout\u001b[0m\u001b[0;34m=\u001b[0m\u001b[0;32mNone\u001b[0m\u001b[0;34m,\u001b[0m\u001b[0;34m\u001b[0m\n",
       "\u001b[0;34m\u001b[0m    \u001b[0mcheck\u001b[0m\u001b[0;34m=\u001b[0m\u001b[0;32mFalse\u001b[0m\u001b[0;34m,\u001b[0m\u001b[0;34m\u001b[0m\n",
       "\u001b[0;34m\u001b[0m    \u001b[0;34m**\u001b[0m\u001b[0mkwargs\u001b[0m\u001b[0;34m,\u001b[0m\u001b[0;34m\u001b[0m\n",
       "\u001b[0;34m\u001b[0m\u001b[0;34m)\u001b[0m\u001b[0;34m\u001b[0m\u001b[0;34m\u001b[0m\u001b[0m\n",
       "\u001b[0;31mDocstring:\u001b[0m\n",
       "Run command with arguments and return a CompletedProcess instance.\n",
       "\n",
       "The returned instance will have attributes args, returncode, stdout and\n",
       "stderr. By default, stdout and stderr are not captured, and those attributes\n",
       "will be None. Pass stdout=PIPE and/or stderr=PIPE in order to capture them,\n",
       "or pass capture_output=True to capture both.\n",
       "\n",
       "If check is True and the exit code was non-zero, it raises a\n",
       "CalledProcessError. The CalledProcessError object will have the return code\n",
       "in the returncode attribute, and output & stderr attributes if those streams\n",
       "were captured.\n",
       "\n",
       "If timeout is given, and the process takes too long, a TimeoutExpired\n",
       "exception will be raised.\n",
       "\n",
       "There is an optional argument \"input\", allowing you to\n",
       "pass bytes or a string to the subprocess's stdin.  If you use this argument\n",
       "you may not also use the Popen constructor's \"stdin\" argument, as\n",
       "it will be used internally.\n",
       "\n",
       "By default, all communication is in bytes, and therefore any \"input\" should\n",
       "be bytes, and the stdout and stderr will be bytes. If in text mode, any\n",
       "\"input\" should be a string, and stdout and stderr will be strings decoded\n",
       "according to locale encoding, or by \"encoding\" if set. Text mode is\n",
       "triggered by setting any of text, encoding, errors or universal_newlines.\n",
       "\n",
       "The other arguments are the same as for the Popen constructor.\n",
       "\u001b[0;31mFile:\u001b[0m      /opt/conda/lib/python3.11/subprocess.py\n",
       "\u001b[0;31mType:\u001b[0m      function"
      ]
     },
     "metadata": {},
     "output_type": "display_data"
    }
   ],
   "source": [
    "?subprocess.run"
   ]
  },
  {
   "cell_type": "code",
   "execution_count": 150,
   "id": "419b3aef-54e5-4b34-ba12-c7b8f832221d",
   "metadata": {},
   "outputs": [
    {
     "name": "stderr",
     "output_type": "stream",
     "text": [
      "100%|█████████████████████████████████████████████████████████████████████████████████████████████████████████████████████████████████████████████████████████| 1000/1000 [16:24<00:00,  1.02it/s]"
     ]
    },
    {
     "name": "stdout",
     "output_type": "stream",
     "text": [
      "CPU times: user 55.8 s, sys: 1.09 s, total: 56.9 s\n",
      "Wall time: 16min 24s\n"
     ]
    },
    {
     "name": "stderr",
     "output_type": "stream",
     "text": [
      "\n"
     ]
    }
   ],
   "source": [
    "%%time\n",
    "from tqdm import tqdm\n",
    "for i in tqdm(range(1000)):\n",
    "    mail_merge()"
   ]
  },
  {
   "cell_type": "code",
   "execution_count": 122,
   "id": "41fd0bc7-39d7-4d7c-988c-1887a0f310a5",
   "metadata": {},
   "outputs": [],
   "source": []
  },
  {
   "cell_type": "code",
   "execution_count": 123,
   "id": "4234fd5a-056e-4eba-8169-c14f52464f12",
   "metadata": {},
   "outputs": [],
   "source": []
  },
  {
   "cell_type": "code",
   "execution_count": 124,
   "id": "5a98c0da-29e9-4c25-9082-9ba2f32736fd",
   "metadata": {},
   "outputs": [
    {
     "name": "stdout",
     "output_type": "stream",
     "text": [
      "Paracetamol 60 Ml|77500|1|77500\n",
      "CTM 60 Ml|77500|1|77500\n",
      "Alkohol 60 Ml|77500|1|77500\n",
      "Lactulax|77500|1|77500\n"
     ]
    }
   ],
   "source": []
  },
  {
   "cell_type": "code",
   "execution_count": 125,
   "id": "20ae4b8e-ed79-4b89-b1f7-0a3ee5eca576",
   "metadata": {},
   "outputs": [
    {
     "name": "stdout",
     "output_type": "stream",
     "text": [
      "1\n",
      "2\n",
      "3\n",
      "4\n"
     ]
    }
   ],
   "source": [
    "for ii in range(1,5):\n",
    "    print(ii)"
   ]
  },
  {
   "cell_type": "code",
   "execution_count": 126,
   "id": "2c833fb3-ddb2-45e9-af49-f9da069dfc4c",
   "metadata": {},
   "outputs": [],
   "source": []
  },
  {
   "cell_type": "code",
   "execution_count": 127,
   "id": "4be98510-b292-44ed-82f3-100251f351c7",
   "metadata": {},
   "outputs": [],
   "source": []
  },
  {
   "cell_type": "code",
   "execution_count": 128,
   "id": "e4e22050-90ac-46f5-9acf-d7ec1ee67516",
   "metadata": {},
   "outputs": [
    {
     "name": "stderr",
     "output_type": "stream",
     "text": [
      "Warning: failed to launch javaldx - java may not function correctly\n"
     ]
    },
    {
     "name": "stdout",
     "output_type": "stream",
     "text": [
      "convert /home/jovyan/work/output/example_document2.docx -> /home/jovyan/work/output/example_document2.pdf using filter : writer_pdf_Export\n",
      "Overwriting: /home/jovyan/work/output/example_document2.pdf\n",
      "CPU times: user 12.3 ms, sys: 3.18 ms, total: 15.5 ms\n",
      "Wall time: 1.28 s\n"
     ]
    },
    {
     "data": {
      "text/plain": [
       "CompletedProcess(args=['libreoffice', '--convert-to', 'pdf', 'output/example_document2.docx', '--outdir', 'output/'], returncode=0)"
      ]
     },
     "execution_count": 128,
     "metadata": {},
     "output_type": "execute_result"
    }
   ],
   "source": [
    "%%time\n"
   ]
  },
  {
   "cell_type": "code",
   "execution_count": 129,
   "id": "28281eac-e320-4c1a-838e-82a4ffaef563",
   "metadata": {},
   "outputs": [],
   "source": []
  },
  {
   "cell_type": "code",
   "execution_count": 45,
   "id": "6c016bd5-7a44-400f-b3b5-4a803001cd88",
   "metadata": {},
   "outputs": [],
   "source": []
  },
  {
   "cell_type": "code",
   "execution_count": 21,
   "id": "54b93ce7-ec62-4daa-9fb0-59ad5e6eb000",
   "metadata": {},
   "outputs": [],
   "source": [
    "claim_id = '131011056 & 131011450'\n"
   ]
  },
  {
   "cell_type": "code",
   "execution_count": 72,
   "id": "46686b05-27d0-4b6c-8093-43ac4676fedf",
   "metadata": {},
   "outputs": [
    {
     "data": {
      "text/plain": [
       "'Patient Name : '"
      ]
     },
     "execution_count": 72,
     "metadata": {},
     "output_type": "execute_result"
    }
   ],
   "source": [
    "doc.paragraphs[3].text"
   ]
  },
  {
   "cell_type": "code",
   "execution_count": null,
   "id": "50f1d984-47b8-4cf8-a990-0fef937d5832",
   "metadata": {},
   "outputs": [],
   "source": []
  }
 ],
 "metadata": {
  "kernelspec": {
   "display_name": "Python 3 (ipykernel)",
   "language": "python",
   "name": "python3"
  },
  "language_info": {
   "codemirror_mode": {
    "name": "ipython",
    "version": 3
   },
   "file_extension": ".py",
   "mimetype": "text/x-python",
   "name": "python",
   "nbconvert_exporter": "python",
   "pygments_lexer": "ipython3",
   "version": "3.11.9"
  }
 },
 "nbformat": 4,
 "nbformat_minor": 5
}

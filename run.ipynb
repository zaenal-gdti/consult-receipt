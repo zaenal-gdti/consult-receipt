{
 "cells": [
  {
   "cell_type": "code",
   "execution_count": 1,
   "id": "cd000204-cb20-4aff-8dfe-fcbe521d677f",
   "metadata": {},
   "outputs": [],
   "source": [
    "from mail_merge import *"
   ]
  },
  {
   "cell_type": "code",
   "execution_count": 2,
   "id": "ee6253bd-9b0d-49f8-b824-bff92cccc0aa",
   "metadata": {},
   "outputs": [
    {
     "name": "stderr",
     "output_type": "stream",
     "text": [
      "1000it [21:44,  1.30s/it]\n"
     ]
    }
   ],
   "source": [
    "mail_merge('Input/sample_consult_file_w_prescription.xlsx')"
   ]
  },
  {
   "cell_type": "code",
   "execution_count": null,
   "id": "b47d1208-0a4d-4899-a675-1833d74f0c73",
   "metadata": {},
   "outputs": [],
   "source": []
  }
 ],
 "metadata": {
  "kernelspec": {
   "display_name": "Python 3 (ipykernel)",
   "language": "python",
   "name": "python3"
  },
  "language_info": {
   "codemirror_mode": {
    "name": "ipython",
    "version": 3
   },
   "file_extension": ".py",
   "mimetype": "text/x-python",
   "name": "python",
   "nbconvert_exporter": "python",
   "pygments_lexer": "ipython3",
   "version": "3.11.9"
  }
 },
 "nbformat": 4,
 "nbformat_minor": 5
}

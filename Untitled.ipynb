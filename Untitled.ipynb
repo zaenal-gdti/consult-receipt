{
 "cells": [
  {
   "cell_type": "code",
   "execution_count": 4,
   "id": "bce89d5e-1505-4abb-82ea-34a1c245561f",
   "metadata": {},
   "outputs": [],
   "source": [
    "def row_to_pdf(data, out_dir):\n",
    "    f = open('template.docx', 'rb')\n",
    "    doc = Document(f)\n",
    "    \n",
    "    name = data['name']\n",
    "    consult_on = pd.to_datetime(data['consultation date']).strftime('%d-%b-%Y')\n",
    "    user_id = data['card number']#'0012'\n",
    "    doctor = data['doctor name'] \n",
    "    cons_time = data['start time']#.astype(str)\n",
    "    comp = data['corporate name']\n",
    "    cons_id = data['consultation id']\n",
    "    claim_id = data['claim id']\n",
    "    icd = data['icdx']+ ' ' + data['diagnosis']\n",
    "    \n",
    "    \n",
    "    replace_word = {'Patient Name : ': f'Patient Name: {name}', \n",
    "                    'Patient User ID : ': f'Patient User ID : {user_id}',\n",
    "                    'Doctor Name\\t\\t: ' : f'Doctor Name\\t\\t: {doctor}',\n",
    "                    'Consult Time\\t\\t: ' : f'Consult Time\\t\\t: {cons_time}',\n",
    "                    'Company Name\\t: ' : f'Company Name\\t: {comp}',\n",
    "                    'Consult ID\\t\\t: ' : f'Consult ID\\t\\t: {cons_id}',\n",
    "                    'Claim ID\\t\\t: ': f'Claim ID\\t\\t: {claim_id}',\n",
    "                    'ICDX\\t\\t\\t: ' : f'ICDX\\t\\t\\t: {icd}'\n",
    "    }\n",
    "\n",
    "    \n",
    "    tbl1 = {'consult_price' :  data['consult fee'],\n",
    "            'drug_price' : data['rx fee']\n",
    "            }\n",
    "    tbl1['total_fare'] = tbl1['consult_price'] + tbl1['drug_price']\n",
    "\n",
    "    \n",
    "    \n",
    "    \n",
    "\n",
    "    for word in replace_word:\n",
    "        for p in doc.paragraphs:\n",
    "            if p.text.find(word) >= 0:\n",
    "                p.text = p.text.replace(word, replace_word[word])\n",
    "    \n",
    "    par2 = doc.paragraphs[2]\n",
    "    \n",
    "    par2.text = f'Consulted on : {consult_on}'\n",
    "    \n",
    "    par2.runs[0].bold = True\n",
    "\n",
    "\n",
    "    tbl_val1 = tbl1['consult_price']\n",
    "    tbl_val2 = tbl1['drug_price']\n",
    "    tbl_val3 = tbl1['total_fare']\n",
    "    \n",
    "    \n",
    "    \n",
    "    doc.tables[0].cell(0, 1).text = f'Rp {tbl_val1}'\n",
    "    doc.tables[0].cell(0, 1).paragraphs[0].runs[0].bold = True\n",
    "    doc.tables[0].cell(0, 1).paragraphs[0].alignment = 2\n",
    "    \n",
    "    doc.tables[0].cell(1, 1).text = f'Rp {tbl_val2}'\n",
    "    doc.tables[0].cell(1, 1).paragraphs[0].runs[0].bold = True\n",
    "    doc.tables[0].cell(1, 1).paragraphs[0].alignment = 2\n",
    "    \n",
    "    doc.tables[0].cell(2, 1).text = f'Rp {tbl_val3}'\n",
    "    doc.tables[0].cell(2, 1).paragraphs[0].runs[0].bold = True\n",
    "    doc.tables[0].cell(2, 1).paragraphs[0].alignment = 2\n",
    "    doc.tables[0].cell(2, 1).paragraphs[0].runs[0].font.size = Pt(18)\n",
    "    \n",
    "    for i in range(3):\n",
    "        doc.tables[0].cell(i, 1).paragraphs[0].paragraph_format.space_after = Pt(0)\n",
    "\n",
    "    obat = data['pres_all']\n",
    "    if obat != 'nan':\n",
    "    \n",
    "        \n",
    "        \n",
    "        obat_idn = obat.split('|')\n",
    "        for i in range(len(obat_idn)):\n",
    "            obat_cl = obat_idn[i].split(';')\n",
    "            j = i + 1\n",
    "            doc.tables[1].cell(j, 0).text = obat_cl[0]\n",
    "            doc.tables[1].cell(j, 1).text = obat_cl[2].replace('.0', '')\n",
    "            doc.tables[1].cell(j, 2).text = obat_cl[1].replace('.0', '')\n",
    "            doc.tables[1].cell(j, 3).text = obat_cl[3].replace('.0', '')\n",
    "    \n",
    "            doc.tables[1].cell(j, 0).paragraphs[0].runs[0].font.size = Pt(8)\n",
    "            doc.tables[1].cell(j, 1).paragraphs[0].runs[0].font.size = Pt(8)\n",
    "            doc.tables[1].cell(j, 2).paragraphs[0].runs[0].font.size = Pt(8)\n",
    "            doc.tables[1].cell(j, 3).paragraphs[0].runs[0].font.size = Pt(8)\n",
    "        \n",
    "            for k in range(4):\n",
    "                doc.tables[1].cell(j, k).paragraphs[0].paragraph_format.space_after = Pt(0)\n",
    "\n",
    "    out_dir_full = f'output/{out_dir}'\n",
    "    if not os.path.exists(out_dir_full):\n",
    "        os.makedirs(out_dir_full)\n",
    "    \n",
    "    doc.save(f'{out_dir_full}/{consult_on}_Consultation_Receipt_{name}.docx')\n",
    "    f.close()\n",
    "\n",
    "    # subprocess.run(['libreoffice', '--convert-to', 'pdf' ,\n",
    "    #                 f'{out_dir_full}/{consult_on}_Consultation_Receipt_{name}.docx', '--outdir', 'output/']\n",
    "    #                ,stdout=subprocess.DEVNULL,\n",
    "    #                 stderr=subprocess.DEVNULL\n",
    "    #             )\n",
    "\n",
    "    # old_doc = [x for x in os.listdir('output') if 'docx' in x]\n",
    "    # for i in old_doc:\n",
    "    #     os.remove(f'output/{out_dir}/{i}')"
   ]
  },
  {
   "cell_type": "code",
   "execution_count": 2,
   "id": "8cf027b3-cd8e-49f0-8062-b24e4957a4f1",
   "metadata": {},
   "outputs": [],
   "source": [
    "from docx import Document\n",
    "from docx.shared import Pt\n",
    "from docx.enum.text import WD_ALIGN_PARAGRAPH\n",
    "import subprocess\n",
    "from docx.shared import Pt\n",
    "import pandas as pd\n",
    "import os\n",
    "import shutil\n",
    "from tqdm import tqdm\n",
    "\n",
    "shutil.rmtree('output')\n",
    "os.mkdir('output')\n",
    "df_input = pd.read_excel('Input/sample_consult_file_w_prescription_2.xlsx')\n",
    "df_input.columns = df_input.columns.str.lower()\n",
    "\n",
    "df_input['icdx'] = df_input.filter(like = 'icd').astype(str).agg(','.join, axis=1).str.replace(',nan', '')\n",
    "df_input['diagnosis'] = df_input.filter(like = 'diagnosis ').astype(str).agg(','.join, axis=1).str.replace(',nan', '')\n",
    "max_pres = df_input.filter(like = 'obat_').columns[-1].split('_')[1]\n",
    "\n",
    "df_input['pres_all'] = ''\n",
    "for i in range(int(max_pres)):\n",
    "    j = i + 1\n",
    "    new_pres = df_input[[x +'_'+ str(j) for x in ['obat', 'harga', 'jumlah', 'total']]].astype(str).agg(';'.join, axis=1)\n",
    "    df_input['pres_all'] = df_input['pres_all'] + '|' + new_pres\n",
    "# for i in \n",
    "# df_input.filter(like = 'obat_')\n",
    "df_input['pres_all'] = df_input['pres_all'].str.replace('^.', '', regex = True)\n",
    "df_input['pres_all']  = df_input['pres_all'].str.replace('nan;', '').str.replace('nan|', '').str.replace('|nan', '')\n",
    "\n",
    "df_input['rx fee'] = df_input['rx fee'].fillna(0)\n",
    "df_input['consult fee'] = df_input['consult fee'].fillna(0)"
   ]
  },
  {
   "cell_type": "code",
   "execution_count": 6,
   "id": "6e4e2a0d-8298-42ed-9fcb-9856a7bc4817",
   "metadata": {},
   "outputs": [],
   "source": [
    "#df_input['payor name']\n",
    "df_input = df_input.sort_values(['aggregator name', 'payor name'])"
   ]
  },
  {
   "cell_type": "code",
   "execution_count": null,
   "id": "91519f1a-bd87-4195-be95-abdb1f3aaddb",
   "metadata": {},
   "outputs": [
    {
     "name": "stderr",
     "output_type": "stream",
     "text": [
      "9it [00:04,  3.59it/s]"
     ]
    },
    {
     "name": "stdout",
     "output_type": "stream",
     "text": [
      "error ==>   1380122\n"
     ]
    },
    {
     "name": "stderr",
     "output_type": "stream",
     "text": [
      "109it [00:15,  8.70it/s]"
     ]
    },
    {
     "name": "stdout",
     "output_type": "stream",
     "text": [
      "error ==>   1396635\n"
     ]
    },
    {
     "name": "stderr",
     "output_type": "stream",
     "text": [
      "731it [01:06, 11.95it/s]"
     ]
    },
    {
     "name": "stdout",
     "output_type": "stream",
     "text": [
      "error ==>   1379945\n"
     ]
    },
    {
     "name": "stderr",
     "output_type": "stream",
     "text": [
      "883it [01:19,  6.83it/s]"
     ]
    },
    {
     "name": "stdout",
     "output_type": "stream",
     "text": [
      "error ==>   1389683\n"
     ]
    },
    {
     "name": "stderr",
     "output_type": "stream",
     "text": [
      "1257it [01:58,  8.57it/s]"
     ]
    },
    {
     "name": "stdout",
     "output_type": "stream",
     "text": [
      "error ==>   1378651\n"
     ]
    },
    {
     "name": "stderr",
     "output_type": "stream",
     "text": [
      "1311it [02:04, 10.57it/s]"
     ]
    },
    {
     "name": "stdout",
     "output_type": "stream",
     "text": [
      "error ==>   1391354\n"
     ]
    },
    {
     "name": "stderr",
     "output_type": "stream",
     "text": [
      "1619it [02:35, 10.18it/s]"
     ]
    },
    {
     "name": "stdout",
     "output_type": "stream",
     "text": [
      "error ==>   1380465\n"
     ]
    },
    {
     "name": "stderr",
     "output_type": "stream",
     "text": [
      "1623it [02:35,  9.43it/s]"
     ]
    },
    {
     "name": "stdout",
     "output_type": "stream",
     "text": [
      "error ==>   1380539\n"
     ]
    },
    {
     "name": "stderr",
     "output_type": "stream",
     "text": [
      "2882it [04:54,  4.92it/s]"
     ]
    },
    {
     "name": "stdout",
     "output_type": "stream",
     "text": [
      "error ==>   1396624\n"
     ]
    },
    {
     "name": "stderr",
     "output_type": "stream",
     "text": [
      "2936it [05:03,  7.52it/s]"
     ]
    },
    {
     "name": "stdout",
     "output_type": "stream",
     "text": [
      "error ==>   1401371\n"
     ]
    },
    {
     "name": "stderr",
     "output_type": "stream",
     "text": [
      "3067it [05:22,  5.04it/s]"
     ]
    },
    {
     "name": "stdout",
     "output_type": "stream",
     "text": [
      "error ==>   1401118\n"
     ]
    },
    {
     "name": "stderr",
     "output_type": "stream",
     "text": [
      "3215it [05:38,  6.38it/s]"
     ]
    },
    {
     "name": "stdout",
     "output_type": "stream",
     "text": [
      "error ==>   1377434\n"
     ]
    },
    {
     "name": "stderr",
     "output_type": "stream",
     "text": [
      "3428it [06:00,  9.07it/s]"
     ]
    },
    {
     "name": "stdout",
     "output_type": "stream",
     "text": [
      "error ==>   1389512\n"
     ]
    },
    {
     "name": "stderr",
     "output_type": "stream",
     "text": [
      "3617it [06:21,  5.53it/s]"
     ]
    },
    {
     "name": "stdout",
     "output_type": "stream",
     "text": [
      "error ==>   1401331\n"
     ]
    },
    {
     "name": "stderr",
     "output_type": "stream",
     "text": [
      "4119it [07:17,  5.88it/s]"
     ]
    },
    {
     "name": "stdout",
     "output_type": "stream",
     "text": [
      "error ==>   1377301\n"
     ]
    },
    {
     "name": "stderr",
     "output_type": "stream",
     "text": [
      "4331it [07:45,  8.09it/s]"
     ]
    },
    {
     "name": "stdout",
     "output_type": "stream",
     "text": [
      "error ==>   1381898\n"
     ]
    },
    {
     "name": "stderr",
     "output_type": "stream",
     "text": [
      "4360it [07:49,  6.42it/s]"
     ]
    },
    {
     "name": "stdout",
     "output_type": "stream",
     "text": [
      "error ==>   1382522\n"
     ]
    },
    {
     "name": "stderr",
     "output_type": "stream",
     "text": [
      "4385it [07:52,  4.78it/s]"
     ]
    },
    {
     "name": "stdout",
     "output_type": "stream",
     "text": [
      "error ==>   1383719\n"
     ]
    },
    {
     "name": "stderr",
     "output_type": "stream",
     "text": [
      "4403it [07:56,  3.95it/s]"
     ]
    },
    {
     "name": "stdout",
     "output_type": "stream",
     "text": [
      "error ==>   1384045\n"
     ]
    },
    {
     "name": "stderr",
     "output_type": "stream",
     "text": [
      "4560it [08:20,  6.13it/s]"
     ]
    },
    {
     "name": "stdout",
     "output_type": "stream",
     "text": [
      "error ==>   1387479\n"
     ]
    },
    {
     "name": "stderr",
     "output_type": "stream",
     "text": [
      "4696it [08:39,  9.46it/s]"
     ]
    },
    {
     "name": "stdout",
     "output_type": "stream",
     "text": [
      "error ==>   1390150\n"
     ]
    },
    {
     "name": "stderr",
     "output_type": "stream",
     "text": [
      "4700it [08:40,  6.64it/s]"
     ]
    },
    {
     "name": "stdout",
     "output_type": "stream",
     "text": [
      "error ==>   1390106\n"
     ]
    },
    {
     "name": "stderr",
     "output_type": "stream",
     "text": [
      "4943it [09:11,  5.46it/s]"
     ]
    },
    {
     "name": "stdout",
     "output_type": "stream",
     "text": [
      "error ==>   1398310\n"
     ]
    },
    {
     "name": "stderr",
     "output_type": "stream",
     "text": [
      "5639it [10:29,  7.28it/s]"
     ]
    },
    {
     "name": "stdout",
     "output_type": "stream",
     "text": [
      "error ==>   1372249\n"
     ]
    },
    {
     "name": "stderr",
     "output_type": "stream",
     "text": [
      "6014it [11:13,  2.73it/s]"
     ]
    },
    {
     "name": "stdout",
     "output_type": "stream",
     "text": [
      "error ==>   1385842\n"
     ]
    },
    {
     "name": "stderr",
     "output_type": "stream",
     "text": [
      "6023it [11:14,  4.94it/s]"
     ]
    },
    {
     "name": "stdout",
     "output_type": "stream",
     "text": [
      "error ==>   1386126\n"
     ]
    },
    {
     "name": "stderr",
     "output_type": "stream",
     "text": [
      "6129it [11:25,  8.63it/s]"
     ]
    },
    {
     "name": "stdout",
     "output_type": "stream",
     "text": [
      "error ==>   1389078\n"
     ]
    },
    {
     "name": "stderr",
     "output_type": "stream",
     "text": [
      "6138it [11:26,  5.30it/s]"
     ]
    },
    {
     "name": "stdout",
     "output_type": "stream",
     "text": [
      "error ==>   1389272\n"
     ]
    },
    {
     "name": "stderr",
     "output_type": "stream",
     "text": [
      "6219it [11:36,  5.27it/s]"
     ]
    },
    {
     "name": "stdout",
     "output_type": "stream",
     "text": [
      "error ==>   1391441\n"
     ]
    },
    {
     "name": "stderr",
     "output_type": "stream",
     "text": [
      "6273it [11:43,  3.39it/s]"
     ]
    },
    {
     "name": "stdout",
     "output_type": "stream",
     "text": [
      "error ==>   1392352\n"
     ]
    },
    {
     "name": "stderr",
     "output_type": "stream",
     "text": [
      "6866it [12:48,  9.57it/s]"
     ]
    },
    {
     "name": "stdout",
     "output_type": "stream",
     "text": [
      "error ==>   1394658\n"
     ]
    },
    {
     "name": "stderr",
     "output_type": "stream",
     "text": [
      "6921it [12:53,  9.23it/s]"
     ]
    },
    {
     "name": "stdout",
     "output_type": "stream",
     "text": [
      "error ==>   1401211\n"
     ]
    },
    {
     "name": "stderr",
     "output_type": "stream",
     "text": [
      "7058it [13:09,  5.94it/s]"
     ]
    },
    {
     "name": "stdout",
     "output_type": "stream",
     "text": [
      "error ==>   1396745\n"
     ]
    },
    {
     "name": "stderr",
     "output_type": "stream",
     "text": [
      "7596it [14:10,  5.11it/s]"
     ]
    },
    {
     "name": "stdout",
     "output_type": "stream",
     "text": [
      "error ==>   1374445\n"
     ]
    },
    {
     "name": "stderr",
     "output_type": "stream",
     "text": [
      "7599it [14:12,  2.71it/s]"
     ]
    },
    {
     "name": "stdout",
     "output_type": "stream",
     "text": [
      "error ==>   1374585\n"
     ]
    },
    {
     "name": "stderr",
     "output_type": "stream",
     "text": [
      "7616it [14:14,  8.90it/s]"
     ]
    },
    {
     "name": "stdout",
     "output_type": "stream",
     "text": [
      "error ==>   1376202\n"
     ]
    },
    {
     "name": "stderr",
     "output_type": "stream",
     "text": [
      "7844it [14:35,  8.64it/s]"
     ]
    },
    {
     "name": "stdout",
     "output_type": "stream",
     "text": [
      "error ==>   1394062\n"
     ]
    },
    {
     "name": "stderr",
     "output_type": "stream",
     "text": [
      "7915it [14:42,  8.46it/s]"
     ]
    },
    {
     "name": "stdout",
     "output_type": "stream",
     "text": [
      "error ==>   1399081\n"
     ]
    },
    {
     "name": "stderr",
     "output_type": "stream",
     "text": [
      "8092it [14:58, 10.27it/s]"
     ]
    },
    {
     "name": "stdout",
     "output_type": "stream",
     "text": [
      "error ==>   1374934\n"
     ]
    },
    {
     "name": "stderr",
     "output_type": "stream",
     "text": [
      "8296it [15:21,  8.54it/s]"
     ]
    },
    {
     "name": "stdout",
     "output_type": "stream",
     "text": [
      "error ==>   1396252\n"
     ]
    },
    {
     "name": "stderr",
     "output_type": "stream",
     "text": [
      "8305it [15:22,  7.44it/s]"
     ]
    },
    {
     "name": "stdout",
     "output_type": "stream",
     "text": [
      "error ==>   1396600\n"
     ]
    },
    {
     "name": "stderr",
     "output_type": "stream",
     "text": [
      "8738it [16:05,  7.81it/s]"
     ]
    },
    {
     "name": "stdout",
     "output_type": "stream",
     "text": [
      "error ==>   1375148\n"
     ]
    },
    {
     "name": "stderr",
     "output_type": "stream",
     "text": [
      "9066it [16:45,  7.51it/s]"
     ]
    },
    {
     "name": "stdout",
     "output_type": "stream",
     "text": [
      "error ==>   1384039\n"
     ]
    },
    {
     "name": "stderr",
     "output_type": "stream",
     "text": [
      "9544it [17:38,  7.18it/s]"
     ]
    },
    {
     "name": "stdout",
     "output_type": "stream",
     "text": [
      "error ==>   1395292\n"
     ]
    },
    {
     "name": "stderr",
     "output_type": "stream",
     "text": [
      "9675it [17:52, 10.51it/s]"
     ]
    }
   ],
   "source": [
    "for index, row in tqdm(df_input.iterrows()):\n",
    "    try:\n",
    "        row_to_pdf(row, row['aggregator name']+'/'+row['payor name'])\n",
    "    except:\n",
    "        print('error ==>  ', row['consultation id'] )"
   ]
  },
  {
   "cell_type": "code",
   "execution_count": 1,
   "id": "471dde20-aa2a-47bd-a250-5765d1744404",
   "metadata": {},
   "outputs": [
    {
     "ename": "ModuleNotFoundError",
     "evalue": "No module named 'zip'",
     "output_type": "error",
     "traceback": [
      "\u001b[0;31m---------------------------------------------------------------------------\u001b[0m",
      "\u001b[0;31mModuleNotFoundError\u001b[0m                       Traceback (most recent call last)",
      "Cell \u001b[0;32mIn[1], line 1\u001b[0m\n\u001b[0;32m----> 1\u001b[0m \u001b[38;5;28;01mimport\u001b[39;00m \u001b[38;5;21;01mzip\u001b[39;00m\n",
      "\u001b[0;31mModuleNotFoundError\u001b[0m: No module named 'zip'"
     ]
    }
   ],
   "source": [
    "import zip"
   ]
  },
  {
   "cell_type": "code",
   "execution_count": 11,
   "id": "8a4cc92d-aea1-44d9-9414-efff897a77a2",
   "metadata": {},
   "outputs": [],
   "source": [
    "shutil.rmtree('output')\n",
    "os.mkdir('output')"
   ]
  },
  {
   "cell_type": "code",
   "execution_count": null,
   "id": "e217781a-59b3-4989-9640-33928a6708d4",
   "metadata": {},
   "outputs": [],
   "source": []
  }
 ],
 "metadata": {
  "kernelspec": {
   "display_name": "Python 3 (ipykernel)",
   "language": "python",
   "name": "python3"
  },
  "language_info": {
   "codemirror_mode": {
    "name": "ipython",
    "version": 3
   },
   "file_extension": ".py",
   "mimetype": "text/x-python",
   "name": "python",
   "nbconvert_exporter": "python",
   "pygments_lexer": "ipython3",
   "version": "3.11.9"
  }
 },
 "nbformat": 4,
 "nbformat_minor": 5
}
